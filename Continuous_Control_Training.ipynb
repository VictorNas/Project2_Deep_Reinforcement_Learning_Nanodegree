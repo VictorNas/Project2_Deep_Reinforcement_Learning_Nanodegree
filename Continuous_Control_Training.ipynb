{
 "cells": [
  {
   "cell_type": "markdown",
   "id": "7b587b81",
   "metadata": {},
   "source": [
    "### 1. Import Packages"
   ]
  },
  {
   "cell_type": "code",
   "execution_count": 1,
   "id": "719c83ed",
   "metadata": {},
   "outputs": [],
   "source": [
    "from unityagents import UnityEnvironment\n",
    "import numpy as np\n",
    "import torch\n",
    "from ddpg_agent import Agent"
   ]
  },
  {
   "cell_type": "markdown",
   "id": "9ed223f1",
   "metadata": {},
   "source": [
    "### 2. Examine the State and Action Spaces"
   ]
  },
  {
   "cell_type": "code",
   "execution_count": 2,
   "id": "caaf2b65",
   "metadata": {},
   "outputs": [
    {
     "name": "stderr",
     "output_type": "stream",
     "text": [
      "INFO:unityagents:\n",
      "'Academy' started successfully!\n",
      "Unity Academy name: Academy\n",
      "        Number of Brains: 1\n",
      "        Number of External Brains : 1\n",
      "        Lesson number : 0\n",
      "        Reset Parameters :\n",
      "\t\tgoal_speed -> 1.0\n",
      "\t\tgoal_size -> 5.0\n",
      "Unity brain name: ReacherBrain\n",
      "        Number of Visual Observations (per agent): 0\n",
      "        Vector Observation space type: continuous\n",
      "        Vector Observation space size (per agent): 33\n",
      "        Number of stacked Vector Observation: 1\n",
      "        Vector Action space type: continuous\n",
      "        Vector Action space size (per agent): 4\n",
      "        Vector Action descriptions: , , , \n"
     ]
    },
    {
     "name": "stdout",
     "output_type": "stream",
     "text": [
      "Number of agents: 20\n",
      "Size of each action: 4\n",
      "There are 20 agents. Each observes a state with length: 33\n",
      "The state for the first agent looks like: [ 0.00000000e+00 -4.00000000e+00  0.00000000e+00  1.00000000e+00\n",
      " -0.00000000e+00 -0.00000000e+00 -4.37113883e-08  0.00000000e+00\n",
      "  0.00000000e+00  0.00000000e+00  0.00000000e+00  0.00000000e+00\n",
      "  0.00000000e+00  0.00000000e+00 -1.00000000e+01  0.00000000e+00\n",
      "  1.00000000e+00 -0.00000000e+00 -0.00000000e+00 -4.37113883e-08\n",
      "  0.00000000e+00  0.00000000e+00  0.00000000e+00  0.00000000e+00\n",
      "  0.00000000e+00  0.00000000e+00  5.75471878e+00 -1.00000000e+00\n",
      "  5.55726624e+00  0.00000000e+00  1.00000000e+00  0.00000000e+00\n",
      " -1.68164849e-01]\n"
     ]
    }
   ],
   "source": [
    "env = UnityEnvironment(file_name='Reacher_Linux/Reacher.x86_64')\n",
    "# get the default brain\n",
    "brain_name = env.brain_names[0]\n",
    "brain = env.brains[brain_name]\n",
    "# reset the environment\n",
    "env_info = env.reset(train_mode=True)[brain_name]\n",
    "\n",
    "\n",
    "# number of agents\n",
    "num_agents = len(env_info.agents)\n",
    "print('Number of agents:', num_agents)\n",
    "\n",
    "# size of each action\n",
    "action_size = brain.vector_action_space_size\n",
    "print('Size of each action:', action_size)\n",
    "\n",
    "# examine the state space \n",
    "states = env_info.vector_observations\n",
    "state_size = states.shape[1]\n",
    "print('There are {} agents. Each observes a state with length: {}'.format(states.shape[0], state_size))\n",
    "print('The state for the first agent looks like:', states[0])"
   ]
  },
  {
   "cell_type": "markdown",
   "id": "65fc4777",
   "metadata": {},
   "source": [
    "### 3. Create an Instance of the Agent and define help functions to plot the rewards"
   ]
  },
  {
   "cell_type": "code",
   "execution_count": null,
   "id": "a2d6254b",
   "metadata": {},
   "outputs": [],
   "source": [
    "seed = 2021\n",
    "## init the agent\n",
    "num_agents = len(env_info.agents)\n",
    "agents = Agent(state_size, action_size, seed,num_agents)"
   ]
  },
  {
   "cell_type": "markdown",
   "id": "85b9deab",
   "metadata": {},
   "source": [
    "#### Help functions for plot"
   ]
  },
  {
   "cell_type": "code",
   "execution_count": null,
   "id": "78384fe6",
   "metadata": {},
   "outputs": [],
   "source": [
    "def plot_score_graph(scores_list, avg_scores):\n",
    "    fig = plt.figure()\n",
    "    ax = fig.add_subplot(111)\n",
    "    plt.plot(np.arange(len(scores_list)), scores_list, label = \"scores\")\n",
    "    plt.plot(np.arange(len(avg_scores)), avg_scores, label = \"100 moving average\")\n",
    "    plt.ylabel('Score')\n",
    "    plt.xlabel('Episode #')\n",
    "    ax.hlines(y=30.0, xmin=0, xmax=len(scores_list), linewidth=2, color='r')\n",
    "    plt.legend()\n",
    "    plt.savefig('scores.png')\n",
    "\n",
    "def plot_loss_graph(critic_loss, actor_loss):\n",
    "    \n",
    "    fig = plt.figure()\n",
    "    ax = fig.add_subplot(111)\n",
    "    # plotting the line 1 points \n",
    "    plt.plot(np.arange(len(critic_loss)), critic_loss, label = \"critic loss\")\n",
    "    plt.ylabel('Loss')\n",
    "    plt.xlabel('Episode #')\n",
    "    \n",
    "    plt.savefig('losses_critic.png')\n",
    "    \n",
    "    \n",
    "    fig = plt.figure()\n",
    "    ax = fig.add_subplot(111)\n",
    "    \n",
    "    # plotting the line 2 points \n",
    "    plt.plot(np.arange(len(actor_loss)), actor_loss, label = \"actor loss\")\n",
    "    #plt.legend()\n",
    "    \n",
    "    plt.ylabel('Loss')\n",
    "    plt.xlabel('Episode #')\n",
    "    \n",
    "    plt.savefig('losses_actor.png')"
   ]
  },
  {
   "cell_type": "markdown",
   "id": "8d9af0a4",
   "metadata": {},
   "source": [
    "### 4. Training the Agent"
   ]
  },
  {
   "cell_type": "code",
   "execution_count": null,
   "id": "b4b717f5",
   "metadata": {},
   "outputs": [],
   "source": [
    "from collections import namedtuple, deque \n",
    "from IPython.display import clear_output\n",
    "import matplotlib.pyplot as plt\n",
    "import torch\n",
    "scores_list = []                    # list containing scores from each episode\n",
    "actor_losses = []\n",
    "critic_losses = []\n",
    "avg_scores = []\n",
    "scores_window = deque(maxlen=100)  # last 100 scores\n",
    "\n",
    "for i_episode in range(1, 3000+1):\n",
    "    env_info = env.reset(train_mode=True)[brain_name]\n",
    "    states = env_info.vector_observations                  # get the current state (for each agent)\n",
    "    scores = np.zeros(num_agents)                          # initialize the score (for each agent)\n",
    "    agents.reset()\n",
    "    while True:   \n",
    "        actions = agents.act(states)                        # select an action (for each agent)\n",
    "        env_info = env.step(actions)[brain_name]           # send all actions to tne environment\n",
    "        next_states = env_info.vector_observations         # get next state (for each agent)\n",
    "        rewards = env_info.rewards                         # get reward (for each agent)\n",
    "        dones = env_info.local_done                        # see if episode finished\n",
    "        scores += rewards                                  # update the score (for each agent)\n",
    "        \n",
    "        agents.step(states, \n",
    "                    actions, \n",
    "                    np.expand_dims(np.asarray(rewards), axis=1),\n",
    "                    next_states, \n",
    "                    np.expand_dims(np.asarray(dones), axis=1)) # agent takes a step\n",
    "        \n",
    "        if np.any(dones):                                  # exit loop if episode finished\n",
    "            break\n",
    "        \n",
    "        states = next_states                               # roll over states to next time step\n",
    "        \n",
    "    \n",
    "    scores_window.append(np.mean(scores))       # save most recent score in deque list\n",
    "    scores_list.append(np.mean(scores))         # save most recent score\n",
    "    avg_scores.append(np.mean(scores_window))\n",
    "    actor_losses.append(agents.actor_loss[-1])\n",
    "    critic_losses.append(agents.critic_loss[-1])\n",
    "    \n",
    "    clear_output(wait=True)\n",
    "    #print(count)\n",
    "    print('\\rEpisode {}\\t\\tScore:{:.2f} \\tAverage Score: {}\\nAverage critic loss: {} \\t Average actor loss: {}'.format(i_episode,np.mean(scores),\n",
    "                                                                      np.mean(scores_window),\n",
    "                                                                      np.mean(agents.critic_loss),\n",
    "                                                                      np.mean(agents.actor_loss)),end=\"\")\n",
    "    if np.mean(scores)>= 30:\n",
    "        with open('message.txt','a') as file:\n",
    "            file.write('Solved in {} episodes\\n'.format(i_episode))\n",
    "    if i_episode % 20 == 0:\n",
    "        plot_score_graph(scores_list,avg_scores)\n",
    "        plot_loss_graph(critic_losses, actor_losses)\n",
    "    if i_episode % 100 == 0:\n",
    "        print('\\rEpisode {}\\tAverage Score: {:.2f}'.format(i_episode, np.mean(scores_window)))\n",
    "\n",
    "    if np.mean(scores_window)>=30.0:\n",
    "        torch.save(agents.actor_local.state_dict(), 'checkpoint_actor.pth')\n",
    "        torch.save(agents.critic_local.state_dict(), 'checkpoint_critic.pth')\n",
    "        print('\\rEpisode {}\\tAverage Score: {:.2f}'.format(i_episode, np.mean(scores_window)))\n",
    "        break\n",
    "    \n"
   ]
  },
  {
   "cell_type": "markdown",
   "id": "665b2b91",
   "metadata": {},
   "source": [
    "#### Watching the Smart Agent"
   ]
  },
  {
   "cell_type": "code",
   "execution_count": null,
   "id": "8b9cfbef",
   "metadata": {},
   "outputs": [],
   "source": [
    "agents.actor_local = torch.load('checkpoint_actor.pth')"
   ]
  },
  {
   "cell_type": "code",
   "execution_count": null,
   "id": "c0d78d75",
   "metadata": {},
   "outputs": [],
   "source": [
    "env_info = env.reset(train_mode=True)[brain_name]\n",
    "states = env_info.vector_observations                  # get the current state (for each agent)\n",
    "scores = np.zeros(num_agents)                          # initialize the score (for each agent)\n",
    "agents.reset()\n",
    "while True:   \n",
    "    actions = agents.act(states)                        # select an action (for each agent)\n",
    "    env_info = env.step(actions)[brain_name]           # send all actions to tne environment\n",
    "    next_states = env_info.vector_observations         # get next state (for each agent)\n",
    "    rewards = env_info.rewards                         # get reward (for each agent)\n",
    "    dones = env_info.local_done                        # see if episode finished\n",
    "    scores += rewards                                  # update the score (for each agent)\n",
    "\n",
    "    if np.any(dones):                                  # exit loop if episode finished\n",
    "        break\n",
    "\n",
    "    states = next_states                               # roll over states to next time step"
   ]
  },
  {
   "cell_type": "markdown",
   "id": "398d7160",
   "metadata": {},
   "source": [
    "#### Plotting the graph"
   ]
  },
  {
   "cell_type": "code",
   "execution_count": null,
   "id": "ce7c04ba",
   "metadata": {},
   "outputs": [],
   "source": [
    "i_episode"
   ]
  },
  {
   "cell_type": "code",
   "execution_count": null,
   "id": "2d961eaa",
   "metadata": {},
   "outputs": [],
   "source": [
    "plot_score_graph(scores_list,avg_scores)"
   ]
  },
  {
   "cell_type": "code",
   "execution_count": null,
   "id": "873c4f05",
   "metadata": {},
   "outputs": [],
   "source": [
    "env.close()"
   ]
  },
  {
   "cell_type": "code",
   "execution_count": null,
   "id": "b8ea8b1c",
   "metadata": {},
   "outputs": [],
   "source": [
    "agents.critic_local"
   ]
  }
 ],
 "metadata": {
  "kernelspec": {
   "display_name": "drlnd",
   "language": "python",
   "name": "drlnd"
  },
  "language_info": {
   "codemirror_mode": {
    "name": "ipython",
    "version": 3
   },
   "file_extension": ".py",
   "mimetype": "text/x-python",
   "name": "python",
   "nbconvert_exporter": "python",
   "pygments_lexer": "ipython3",
   "version": "3.6.13"
  }
 },
 "nbformat": 4,
 "nbformat_minor": 5
}
